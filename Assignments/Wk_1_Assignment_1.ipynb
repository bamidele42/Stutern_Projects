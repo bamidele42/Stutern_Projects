{
 "cells": [
  {
   "cell_type": "markdown",
   "id": "868b4082",
   "metadata": {},
   "source": [
    "## This is Question 1\n",
    "Use else block to display a message “Done” after successful execution of for loop."
   ]
  },
  {
   "cell_type": "code",
   "execution_count": 5,
   "id": "56c17bdb",
   "metadata": {
    "scrolled": true
   },
   "outputs": [
    {
     "name": "stdout",
     "output_type": "stream",
     "text": [
      "0\n",
      "1\n",
      "2\n",
      "3\n",
      "4\n",
      "5\n",
      "Done\n"
     ]
    }
   ],
   "source": [
    "for x in range(0, 10):\n",
    "    if x <= 5:\n",
    "        print(x)\n",
    "    \n",
    "else:\n",
    "    print(\"Done\")"
   ]
  },
  {
   "cell_type": "markdown",
   "id": "ae753f75",
   "metadata": {},
   "source": [
    "## This Question 2\n",
    "Write a program to display all prime numbers within a range."
   ]
  },
  {
   "cell_type": "code",
   "execution_count": 10,
   "id": "f7f4aaf9",
   "metadata": {},
   "outputs": [
    {
     "name": "stdout",
     "output_type": "stream",
     "text": [
      "2\n",
      "3\n",
      "5\n",
      "7\n",
      "11\n",
      "13\n",
      "17\n",
      "19\n"
     ]
    }
   ],
   "source": [
    "for i in range(0, 21):\n",
    "    if i > 1: # Check for prime numbers, prime number are greater than 1\n",
    "        for x in range(2, i):\n",
    "            if i % x == 0: # if not a prime number break loop\n",
    "                break\n",
    "        else:\n",
    "            print(i)"
   ]
  },
  {
   "cell_type": "markdown",
   "id": "a9f3535f",
   "metadata": {},
   "source": [
    "### This Question 3\n",
    "Use a loop to display elements from a given list present at odd index positions."
   ]
  },
  {
   "cell_type": "code",
   "execution_count": 14,
   "id": "8678e343",
   "metadata": {},
   "outputs": [
    {
     "name": "stdout",
     "output_type": "stream",
     "text": [
      "1 Adisa\n",
      "3 temitope\n",
      "5 placidius\n",
      "7 chinenye\n"
     ]
    }
   ],
   "source": [
    "x = [\"joyce\", \"Adisa\", \"fine_cynthia\", \"temitope\", \"mariam\", \"placidius\", \"Kehinde\", \"chinenye\", \"courage\"]\n",
    "for a, b in enumerate(x): # This line use the enumerate function to to get the index of each element in the list\n",
    "    if a % 2 != 0:\n",
    "        print(a, b)    "
   ]
  },
  {
   "cell_type": "markdown",
   "id": "a272fedf",
   "metadata": {},
   "source": [
    "### This is question 4\n",
    "Calculate the cube of all numbers from 1 to a given number"
   ]
  },
  {
   "cell_type": "code",
   "execution_count": 15,
   "id": "6a28aad3",
   "metadata": {},
   "outputs": [
    {
     "name": "stdout",
     "output_type": "stream",
     "text": [
      "1\n",
      "8\n",
      "27\n",
      "64\n",
      "125\n",
      "216\n",
      "343\n",
      "512\n",
      "729\n"
     ]
    }
   ],
   "source": [
    "for i in range(1, 10):\n",
    "    print(i ** 3)"
   ]
  },
  {
   "cell_type": "raw",
   "id": "65a26819",
   "metadata": {},
   "source": []
  }
 ],
 "metadata": {
  "kernelspec": {
   "display_name": "Python 3 (ipykernel)",
   "language": "python",
   "name": "python3"
  },
  "language_info": {
   "codemirror_mode": {
    "name": "ipython",
    "version": 3
   },
   "file_extension": ".py",
   "mimetype": "text/x-python",
   "name": "python",
   "nbconvert_exporter": "python",
   "pygments_lexer": "ipython3",
   "version": "3.9.12"
  }
 },
 "nbformat": 4,
 "nbformat_minor": 5
}
