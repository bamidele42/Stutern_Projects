{
 "cells": [
  {
   "cell_type": "markdown",
   "id": "fc1bf5c1",
   "metadata": {},
   "source": [
    "### Question 1\n",
    "Create a function, that repeats the first 2 letters of a word which will be followed by 3 dots and a space after. The string should be ended with a question mark."
   ]
  },
  {
   "cell_type": "code",
   "execution_count": 7,
   "id": "074aec8f",
   "metadata": {},
   "outputs": [
    {
     "data": {
      "text/plain": [
       "'Te ... Te ... Temitope?'"
      ]
     },
     "execution_count": 7,
     "metadata": {},
     "output_type": "execute_result"
    }
   ],
   "source": [
    "def repeat_letters(x):\n",
    "    return f\"{x[:2]} ... {x[:2]} ... {x}?\" # Using f-string formatting\n",
    "repeat_letters(\"Temitope\")    "
   ]
  },
  {
   "cell_type": "markdown",
   "id": "846ea8ff",
   "metadata": {},
   "source": [
    "### Question 2\n",
    "Perform a for loop that searches through a string and prints only distinct vowel letters."
   ]
  },
  {
   "cell_type": "code",
   "execution_count": 8,
   "id": "18513665",
   "metadata": {},
   "outputs": [
    {
     "data": {
      "text/plain": [
       "'aiee'"
      ]
     },
     "execution_count": 8,
     "metadata": {},
     "output_type": "execute_result"
    }
   ],
   "source": [
    "def vowel_letters(x):\n",
    "    letters = \"\" # declaring a letters variable to contain the distinct vowels\n",
    "    for i in x:\n",
    "        if i in \"aeiou\":\n",
    "            letters = letters + i\n",
    "    return letters\n",
    "    \n",
    "#vowels = \"aeiou\"\n",
    "vowel_letters(\"Bamidele\")\n"
   ]
  },
  {
   "cell_type": "markdown",
   "id": "f96fe4a1",
   "metadata": {},
   "source": [
    "### Question 3\n",
    "Perform a while loop that requests for a name, if that name is entered, it will be printed, else if user types “end” (this command should be case insensitive), the while loop is terminated."
   ]
  },
  {
   "cell_type": "code",
   "execution_count": 10,
   "id": "f35434f0",
   "metadata": {},
   "outputs": [
    {
     "name": "stdout",
     "output_type": "stream",
     "text": [
      "Enter your name here: temi\n",
      "Enter your name here: tope\n",
      "Enter your name here: bami\n",
      "Enter your name here: dele\n",
      "Enter your name here: ENd\n"
     ]
    }
   ],
   "source": [
    "user_name = True\n",
    "while user_name:\n",
    "     name = input(\"Enter your name here: \")\n",
    "     if name.lower() == \"end\": # This line helps to make the \"end\" case insensitive!!\n",
    "        user_name = False"
   ]
  },
  {
   "cell_type": "code",
   "execution_count": null,
   "id": "da28288b",
   "metadata": {},
   "outputs": [],
   "source": []
  }
 ],
 "metadata": {
  "kernelspec": {
   "display_name": "Python 3 (ipykernel)",
   "language": "python",
   "name": "python3"
  },
  "language_info": {
   "codemirror_mode": {
    "name": "ipython",
    "version": 3
   },
   "file_extension": ".py",
   "mimetype": "text/x-python",
   "name": "python",
   "nbconvert_exporter": "python",
   "pygments_lexer": "ipython3",
   "version": "3.9.12"
  }
 },
 "nbformat": 4,
 "nbformat_minor": 5
}
