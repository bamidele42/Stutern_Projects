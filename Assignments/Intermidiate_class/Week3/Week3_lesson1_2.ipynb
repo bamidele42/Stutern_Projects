{
 "cells": [
  {
   "cell_type": "markdown",
   "id": "cc83b6b7",
   "metadata": {},
   "source": [
    "### Import  Necessary libraries"
   ]
  },
  {
   "cell_type": "code",
   "execution_count": 1,
   "id": "01fc0def",
   "metadata": {},
   "outputs": [],
   "source": [
    "import pandas as pd\n",
    "import numpy as np\n",
    "import matplotlib.pyplot as plt\n",
    "import seaborn as sns"
   ]
  },
  {
   "cell_type": "code",
   "execution_count": 2,
   "id": "78f21d27",
   "metadata": {},
   "outputs": [],
   "source": [
    "data = pd.read_csv(\"all_alpha_08 (1).csv\")"
   ]
  },
  {
   "cell_type": "code",
   "execution_count": 3,
   "id": "db4e9951",
   "metadata": {
    "scrolled": false
   },
   "outputs": [
    {
     "data": {
      "text/html": [
       "<div>\n",
       "<style scoped>\n",
       "    .dataframe tbody tr th:only-of-type {\n",
       "        vertical-align: middle;\n",
       "    }\n",
       "\n",
       "    .dataframe tbody tr th {\n",
       "        vertical-align: top;\n",
       "    }\n",
       "\n",
       "    .dataframe thead th {\n",
       "        text-align: right;\n",
       "    }\n",
       "</style>\n",
       "<table border=\"1\" class=\"dataframe\">\n",
       "  <thead>\n",
       "    <tr style=\"text-align: right;\">\n",
       "      <th></th>\n",
       "      <th>Model</th>\n",
       "      <th>Displ</th>\n",
       "      <th>Cyl</th>\n",
       "      <th>Trans</th>\n",
       "      <th>Drive</th>\n",
       "      <th>Fuel</th>\n",
       "      <th>Sales Area</th>\n",
       "      <th>Stnd</th>\n",
       "      <th>Underhood ID</th>\n",
       "      <th>Veh Class</th>\n",
       "      <th>Air Pollution Score</th>\n",
       "      <th>FE Calc Appr</th>\n",
       "      <th>City MPG</th>\n",
       "      <th>Hwy MPG</th>\n",
       "      <th>Cmb MPG</th>\n",
       "      <th>Unadj Cmb MPG</th>\n",
       "      <th>Greenhouse Gas Score</th>\n",
       "      <th>SmartWay</th>\n",
       "    </tr>\n",
       "  </thead>\n",
       "  <tbody>\n",
       "    <tr>\n",
       "      <th>0</th>\n",
       "      <td>ACURA MDX</td>\n",
       "      <td>3.7</td>\n",
       "      <td>(6 cyl)</td>\n",
       "      <td>Auto-S5</td>\n",
       "      <td>4WD</td>\n",
       "      <td>Gasoline</td>\n",
       "      <td>CA</td>\n",
       "      <td>U2</td>\n",
       "      <td>8HNXT03.7PKR</td>\n",
       "      <td>SUV</td>\n",
       "      <td>7</td>\n",
       "      <td>Drv</td>\n",
       "      <td>15</td>\n",
       "      <td>20</td>\n",
       "      <td>17</td>\n",
       "      <td>22.0527</td>\n",
       "      <td>4</td>\n",
       "      <td>no</td>\n",
       "    </tr>\n",
       "    <tr>\n",
       "      <th>1</th>\n",
       "      <td>ACURA MDX</td>\n",
       "      <td>3.7</td>\n",
       "      <td>(6 cyl)</td>\n",
       "      <td>Auto-S5</td>\n",
       "      <td>4WD</td>\n",
       "      <td>Gasoline</td>\n",
       "      <td>FA</td>\n",
       "      <td>B5</td>\n",
       "      <td>8HNXT03.7PKR</td>\n",
       "      <td>SUV</td>\n",
       "      <td>6</td>\n",
       "      <td>Drv</td>\n",
       "      <td>15</td>\n",
       "      <td>20</td>\n",
       "      <td>17</td>\n",
       "      <td>22.0527</td>\n",
       "      <td>4</td>\n",
       "      <td>no</td>\n",
       "    </tr>\n",
       "    <tr>\n",
       "      <th>2</th>\n",
       "      <td>ACURA RDX</td>\n",
       "      <td>2.3</td>\n",
       "      <td>(4 cyl)</td>\n",
       "      <td>Auto-S5</td>\n",
       "      <td>4WD</td>\n",
       "      <td>Gasoline</td>\n",
       "      <td>CA</td>\n",
       "      <td>U2</td>\n",
       "      <td>8HNXT02.3DKR</td>\n",
       "      <td>SUV</td>\n",
       "      <td>7</td>\n",
       "      <td>Drv</td>\n",
       "      <td>17</td>\n",
       "      <td>22</td>\n",
       "      <td>19</td>\n",
       "      <td>24.1745</td>\n",
       "      <td>5</td>\n",
       "      <td>no</td>\n",
       "    </tr>\n",
       "    <tr>\n",
       "      <th>3</th>\n",
       "      <td>ACURA RDX</td>\n",
       "      <td>2.3</td>\n",
       "      <td>(4 cyl)</td>\n",
       "      <td>Auto-S5</td>\n",
       "      <td>4WD</td>\n",
       "      <td>Gasoline</td>\n",
       "      <td>FA</td>\n",
       "      <td>B5</td>\n",
       "      <td>8HNXT02.3DKR</td>\n",
       "      <td>SUV</td>\n",
       "      <td>6</td>\n",
       "      <td>Drv</td>\n",
       "      <td>17</td>\n",
       "      <td>22</td>\n",
       "      <td>19</td>\n",
       "      <td>24.1745</td>\n",
       "      <td>5</td>\n",
       "      <td>no</td>\n",
       "    </tr>\n",
       "    <tr>\n",
       "      <th>4</th>\n",
       "      <td>ACURA RL</td>\n",
       "      <td>3.5</td>\n",
       "      <td>(6 cyl)</td>\n",
       "      <td>Auto-S5</td>\n",
       "      <td>4WD</td>\n",
       "      <td>Gasoline</td>\n",
       "      <td>CA</td>\n",
       "      <td>U2</td>\n",
       "      <td>8HNXV03.5HKR</td>\n",
       "      <td>midsize car</td>\n",
       "      <td>7</td>\n",
       "      <td>Drv</td>\n",
       "      <td>16</td>\n",
       "      <td>24</td>\n",
       "      <td>19</td>\n",
       "      <td>24.5629</td>\n",
       "      <td>5</td>\n",
       "      <td>no</td>\n",
       "    </tr>\n",
       "  </tbody>\n",
       "</table>\n",
       "</div>"
      ],
      "text/plain": [
       "       Model  Displ      Cyl    Trans Drive      Fuel Sales Area Stnd  \\\n",
       "0  ACURA MDX    3.7  (6 cyl)  Auto-S5   4WD  Gasoline         CA   U2   \n",
       "1  ACURA MDX    3.7  (6 cyl)  Auto-S5   4WD  Gasoline         FA   B5   \n",
       "2  ACURA RDX    2.3  (4 cyl)  Auto-S5   4WD  Gasoline         CA   U2   \n",
       "3  ACURA RDX    2.3  (4 cyl)  Auto-S5   4WD  Gasoline         FA   B5   \n",
       "4   ACURA RL    3.5  (6 cyl)  Auto-S5   4WD  Gasoline         CA   U2   \n",
       "\n",
       "   Underhood ID    Veh Class Air Pollution Score FE Calc Appr City MPG  \\\n",
       "0  8HNXT03.7PKR          SUV                   7          Drv       15   \n",
       "1  8HNXT03.7PKR          SUV                   6          Drv       15   \n",
       "2  8HNXT02.3DKR          SUV                   7          Drv       17   \n",
       "3  8HNXT02.3DKR          SUV                   6          Drv       17   \n",
       "4  8HNXV03.5HKR  midsize car                   7          Drv       16   \n",
       "\n",
       "  Hwy MPG Cmb MPG  Unadj Cmb MPG Greenhouse Gas Score SmartWay  \n",
       "0      20      17        22.0527                    4       no  \n",
       "1      20      17        22.0527                    4       no  \n",
       "2      22      19        24.1745                    5       no  \n",
       "3      22      19        24.1745                    5       no  \n",
       "4      24      19        24.5629                    5       no  "
      ]
     },
     "execution_count": 3,
     "metadata": {},
     "output_type": "execute_result"
    }
   ],
   "source": [
    "data.head()"
   ]
  },
  {
   "cell_type": "markdown",
   "id": "e943acbc",
   "metadata": {},
   "source": [
    "### Data Cleaning\n",
    "Replace all the column names that has space(s) between them with an Underscore"
   ]
  },
  {
   "cell_type": "code",
   "execution_count": 4,
   "id": "e7f9de81",
   "metadata": {},
   "outputs": [],
   "source": [
    "header = data.columns"
   ]
  },
  {
   "cell_type": "code",
   "execution_count": 5,
   "id": "e9fe232a",
   "metadata": {},
   "outputs": [],
   "source": [
    "new_header = []\n",
    "for i in header:\n",
    "    if \" \" in i:\n",
    "        columnheader = i.replace(\" \", \"_\")\n",
    "        new_header.append(columnheader)\n",
    "    else:\n",
    "        new_header.append(i)"
   ]
  },
  {
   "cell_type": "code",
   "execution_count": 6,
   "id": "c881b184",
   "metadata": {},
   "outputs": [
    {
     "name": "stdout",
     "output_type": "stream",
     "text": [
      "['Model', 'Displ', 'Cyl', 'Trans', 'Drive', 'Fuel', 'Sales_Area', 'Stnd', 'Underhood_ID', 'Veh_Class', 'Air_Pollution_Score', 'FE_Calc_Appr', 'City_MPG', 'Hwy_MPG', 'Cmb_MPG', 'Unadj_Cmb_MPG', 'Greenhouse_Gas_Score', 'SmartWay']\n"
     ]
    }
   ],
   "source": [
    "print(new_header)"
   ]
  },
  {
   "cell_type": "code",
   "execution_count": 7,
   "id": "b56386e7",
   "metadata": {},
   "outputs": [],
   "source": [
    "# assign the new columns to the DataFrame \n",
    "data.columns = new_header"
   ]
  },
  {
   "cell_type": "code",
   "execution_count": 8,
   "id": "139ed90f",
   "metadata": {
    "scrolled": false
   },
   "outputs": [
    {
     "data": {
      "text/html": [
       "<div>\n",
       "<style scoped>\n",
       "    .dataframe tbody tr th:only-of-type {\n",
       "        vertical-align: middle;\n",
       "    }\n",
       "\n",
       "    .dataframe tbody tr th {\n",
       "        vertical-align: top;\n",
       "    }\n",
       "\n",
       "    .dataframe thead th {\n",
       "        text-align: right;\n",
       "    }\n",
       "</style>\n",
       "<table border=\"1\" class=\"dataframe\">\n",
       "  <thead>\n",
       "    <tr style=\"text-align: right;\">\n",
       "      <th></th>\n",
       "      <th>Model</th>\n",
       "      <th>Displ</th>\n",
       "      <th>Cyl</th>\n",
       "      <th>Trans</th>\n",
       "      <th>Drive</th>\n",
       "      <th>Fuel</th>\n",
       "      <th>Sales_Area</th>\n",
       "      <th>Stnd</th>\n",
       "      <th>Underhood_ID</th>\n",
       "      <th>Veh_Class</th>\n",
       "      <th>Air_Pollution_Score</th>\n",
       "      <th>FE_Calc_Appr</th>\n",
       "      <th>City_MPG</th>\n",
       "      <th>Hwy_MPG</th>\n",
       "      <th>Cmb_MPG</th>\n",
       "      <th>Unadj_Cmb_MPG</th>\n",
       "      <th>Greenhouse_Gas_Score</th>\n",
       "      <th>SmartWay</th>\n",
       "    </tr>\n",
       "  </thead>\n",
       "  <tbody>\n",
       "    <tr>\n",
       "      <th>0</th>\n",
       "      <td>ACURA MDX</td>\n",
       "      <td>3.7</td>\n",
       "      <td>(6 cyl)</td>\n",
       "      <td>Auto-S5</td>\n",
       "      <td>4WD</td>\n",
       "      <td>Gasoline</td>\n",
       "      <td>CA</td>\n",
       "      <td>U2</td>\n",
       "      <td>8HNXT03.7PKR</td>\n",
       "      <td>SUV</td>\n",
       "      <td>7</td>\n",
       "      <td>Drv</td>\n",
       "      <td>15</td>\n",
       "      <td>20</td>\n",
       "      <td>17</td>\n",
       "      <td>22.0527</td>\n",
       "      <td>4</td>\n",
       "      <td>no</td>\n",
       "    </tr>\n",
       "    <tr>\n",
       "      <th>1</th>\n",
       "      <td>ACURA MDX</td>\n",
       "      <td>3.7</td>\n",
       "      <td>(6 cyl)</td>\n",
       "      <td>Auto-S5</td>\n",
       "      <td>4WD</td>\n",
       "      <td>Gasoline</td>\n",
       "      <td>FA</td>\n",
       "      <td>B5</td>\n",
       "      <td>8HNXT03.7PKR</td>\n",
       "      <td>SUV</td>\n",
       "      <td>6</td>\n",
       "      <td>Drv</td>\n",
       "      <td>15</td>\n",
       "      <td>20</td>\n",
       "      <td>17</td>\n",
       "      <td>22.0527</td>\n",
       "      <td>4</td>\n",
       "      <td>no</td>\n",
       "    </tr>\n",
       "    <tr>\n",
       "      <th>2</th>\n",
       "      <td>ACURA RDX</td>\n",
       "      <td>2.3</td>\n",
       "      <td>(4 cyl)</td>\n",
       "      <td>Auto-S5</td>\n",
       "      <td>4WD</td>\n",
       "      <td>Gasoline</td>\n",
       "      <td>CA</td>\n",
       "      <td>U2</td>\n",
       "      <td>8HNXT02.3DKR</td>\n",
       "      <td>SUV</td>\n",
       "      <td>7</td>\n",
       "      <td>Drv</td>\n",
       "      <td>17</td>\n",
       "      <td>22</td>\n",
       "      <td>19</td>\n",
       "      <td>24.1745</td>\n",
       "      <td>5</td>\n",
       "      <td>no</td>\n",
       "    </tr>\n",
       "    <tr>\n",
       "      <th>3</th>\n",
       "      <td>ACURA RDX</td>\n",
       "      <td>2.3</td>\n",
       "      <td>(4 cyl)</td>\n",
       "      <td>Auto-S5</td>\n",
       "      <td>4WD</td>\n",
       "      <td>Gasoline</td>\n",
       "      <td>FA</td>\n",
       "      <td>B5</td>\n",
       "      <td>8HNXT02.3DKR</td>\n",
       "      <td>SUV</td>\n",
       "      <td>6</td>\n",
       "      <td>Drv</td>\n",
       "      <td>17</td>\n",
       "      <td>22</td>\n",
       "      <td>19</td>\n",
       "      <td>24.1745</td>\n",
       "      <td>5</td>\n",
       "      <td>no</td>\n",
       "    </tr>\n",
       "    <tr>\n",
       "      <th>4</th>\n",
       "      <td>ACURA RL</td>\n",
       "      <td>3.5</td>\n",
       "      <td>(6 cyl)</td>\n",
       "      <td>Auto-S5</td>\n",
       "      <td>4WD</td>\n",
       "      <td>Gasoline</td>\n",
       "      <td>CA</td>\n",
       "      <td>U2</td>\n",
       "      <td>8HNXV03.5HKR</td>\n",
       "      <td>midsize car</td>\n",
       "      <td>7</td>\n",
       "      <td>Drv</td>\n",
       "      <td>16</td>\n",
       "      <td>24</td>\n",
       "      <td>19</td>\n",
       "      <td>24.5629</td>\n",
       "      <td>5</td>\n",
       "      <td>no</td>\n",
       "    </tr>\n",
       "  </tbody>\n",
       "</table>\n",
       "</div>"
      ],
      "text/plain": [
       "       Model  Displ      Cyl    Trans Drive      Fuel Sales_Area Stnd  \\\n",
       "0  ACURA MDX    3.7  (6 cyl)  Auto-S5   4WD  Gasoline         CA   U2   \n",
       "1  ACURA MDX    3.7  (6 cyl)  Auto-S5   4WD  Gasoline         FA   B5   \n",
       "2  ACURA RDX    2.3  (4 cyl)  Auto-S5   4WD  Gasoline         CA   U2   \n",
       "3  ACURA RDX    2.3  (4 cyl)  Auto-S5   4WD  Gasoline         FA   B5   \n",
       "4   ACURA RL    3.5  (6 cyl)  Auto-S5   4WD  Gasoline         CA   U2   \n",
       "\n",
       "   Underhood_ID    Veh_Class Air_Pollution_Score FE_Calc_Appr City_MPG  \\\n",
       "0  8HNXT03.7PKR          SUV                   7          Drv       15   \n",
       "1  8HNXT03.7PKR          SUV                   6          Drv       15   \n",
       "2  8HNXT02.3DKR          SUV                   7          Drv       17   \n",
       "3  8HNXT02.3DKR          SUV                   6          Drv       17   \n",
       "4  8HNXV03.5HKR  midsize car                   7          Drv       16   \n",
       "\n",
       "  Hwy_MPG Cmb_MPG  Unadj_Cmb_MPG Greenhouse_Gas_Score SmartWay  \n",
       "0      20      17        22.0527                    4       no  \n",
       "1      20      17        22.0527                    4       no  \n",
       "2      22      19        24.1745                    5       no  \n",
       "3      22      19        24.1745                    5       no  \n",
       "4      24      19        24.5629                    5       no  "
      ]
     },
     "execution_count": 8,
     "metadata": {},
     "output_type": "execute_result"
    }
   ],
   "source": [
    "data.head()"
   ]
  },
  {
   "cell_type": "markdown",
   "id": "8a0757dc",
   "metadata": {},
   "source": [
    "Check the data types of all the columns"
   ]
  },
  {
   "cell_type": "code",
   "execution_count": 9,
   "id": "c9978617",
   "metadata": {
    "scrolled": true
   },
   "outputs": [
    {
     "data": {
      "text/plain": [
       "Model                    object\n",
       "Displ                   float64\n",
       "Cyl                      object\n",
       "Trans                    object\n",
       "Drive                    object\n",
       "Fuel                     object\n",
       "Sales_Area               object\n",
       "Stnd                     object\n",
       "Underhood_ID             object\n",
       "Veh_Class                object\n",
       "Air_Pollution_Score      object\n",
       "FE_Calc_Appr             object\n",
       "City_MPG                 object\n",
       "Hwy_MPG                  object\n",
       "Cmb_MPG                  object\n",
       "Unadj_Cmb_MPG           float64\n",
       "Greenhouse_Gas_Score     object\n",
       "SmartWay                 object\n",
       "dtype: object"
      ]
     },
     "execution_count": 9,
     "metadata": {},
     "output_type": "execute_result"
    }
   ],
   "source": [
    "data.dtypes"
   ]
  },
  {
   "cell_type": "code",
   "execution_count": 10,
   "id": "0f2207db",
   "metadata": {},
   "outputs": [
    {
     "data": {
      "text/plain": [
       "Model                     0\n",
       "Displ                     0\n",
       "Cyl                     199\n",
       "Trans                   199\n",
       "Drive                    93\n",
       "Fuel                      0\n",
       "Sales_Area                0\n",
       "Stnd                      0\n",
       "Underhood_ID              0\n",
       "Veh_Class                 0\n",
       "Air_Pollution_Score       0\n",
       "FE_Calc_Appr            199\n",
       "City_MPG                199\n",
       "Hwy_MPG                 199\n",
       "Cmb_MPG                 199\n",
       "Unadj_Cmb_MPG           199\n",
       "Greenhouse_Gas_Score    199\n",
       "SmartWay                  0\n",
       "dtype: int64"
      ]
     },
     "execution_count": 10,
     "metadata": {},
     "output_type": "execute_result"
    }
   ],
   "source": [
    "# Identify the Null values in the dataset\n",
    "data.isna().sum()"
   ]
  },
  {
   "cell_type": "code",
   "execution_count": 11,
   "id": "48d93769",
   "metadata": {},
   "outputs": [],
   "source": [
    "# drop all Null values\n",
    "data.dropna(inplace = True)"
   ]
  },
  {
   "cell_type": "code",
   "execution_count": 12,
   "id": "8575a885",
   "metadata": {
    "scrolled": true
   },
   "outputs": [
    {
     "data": {
      "text/plain": [
       "Model                   0\n",
       "Displ                   0\n",
       "Cyl                     0\n",
       "Trans                   0\n",
       "Drive                   0\n",
       "Fuel                    0\n",
       "Sales_Area              0\n",
       "Stnd                    0\n",
       "Underhood_ID            0\n",
       "Veh_Class               0\n",
       "Air_Pollution_Score     0\n",
       "FE_Calc_Appr            0\n",
       "City_MPG                0\n",
       "Hwy_MPG                 0\n",
       "Cmb_MPG                 0\n",
       "Unadj_Cmb_MPG           0\n",
       "Greenhouse_Gas_Score    0\n",
       "SmartWay                0\n",
       "dtype: int64"
      ]
     },
     "execution_count": 12,
     "metadata": {},
     "output_type": "execute_result"
    }
   ],
   "source": [
    "# Confirmed that all Null values has been dropped\n",
    "data.isna().sum()"
   ]
  },
  {
   "cell_type": "code",
   "execution_count": 13,
   "id": "085fe997",
   "metadata": {
    "scrolled": true
   },
   "outputs": [],
   "source": [
    "# Cleaning the Cyl Column: the column contain both integer and string\n",
    "cleaned_cyl= data.Cyl.apply(lambda x: x.strip(\"()\").split(\" \")[0])"
   ]
  },
  {
   "cell_type": "code",
   "execution_count": 14,
   "id": "7051552d",
   "metadata": {
    "scrolled": false
   },
   "outputs": [],
   "source": [
    "data.Cyl = cleaned_cyl\n",
    "data_type = data.Cyl.astype(int)"
   ]
  },
  {
   "cell_type": "code",
   "execution_count": 15,
   "id": "825d1608",
   "metadata": {},
   "outputs": [],
   "source": [
    "data.Cyl = data_type"
   ]
  },
  {
   "cell_type": "code",
   "execution_count": 16,
   "id": "06c0f58d",
   "metadata": {},
   "outputs": [
    {
     "data": {
      "text/plain": [
       "dtype('int32')"
      ]
     },
     "execution_count": 16,
     "metadata": {},
     "output_type": "execute_result"
    }
   ],
   "source": [
    "data.Cyl.dtypes"
   ]
  },
  {
   "cell_type": "markdown",
   "id": "3e7423f9",
   "metadata": {},
   "source": [
    "### Cleaning Columns and Change column data types\n",
    "Some columns data are integer but were represented as an object on the DataFrame"
   ]
  },
  {
   "cell_type": "code",
   "execution_count": 17,
   "id": "d1252931",
   "metadata": {},
   "outputs": [],
   "source": [
    "cleaned_Air = data.Air_Pollution_Score.apply(lambda x: x.split(\"/\")[0])"
   ]
  },
  {
   "cell_type": "code",
   "execution_count": 18,
   "id": "26aa07bd",
   "metadata": {},
   "outputs": [],
   "source": [
    "cleaned_Air =cleaned_Air.astype(float)"
   ]
  },
  {
   "cell_type": "code",
   "execution_count": 19,
   "id": "6271571c",
   "metadata": {
    "scrolled": true
   },
   "outputs": [],
   "source": [
    "data.Air_Pollution_Score = cleaned_Air"
   ]
  },
  {
   "cell_type": "code",
   "execution_count": 20,
   "id": "fbb1b918",
   "metadata": {
    "scrolled": false
   },
   "outputs": [
    {
     "data": {
      "text/html": [
       "<div>\n",
       "<style scoped>\n",
       "    .dataframe tbody tr th:only-of-type {\n",
       "        vertical-align: middle;\n",
       "    }\n",
       "\n",
       "    .dataframe tbody tr th {\n",
       "        vertical-align: top;\n",
       "    }\n",
       "\n",
       "    .dataframe thead th {\n",
       "        text-align: right;\n",
       "    }\n",
       "</style>\n",
       "<table border=\"1\" class=\"dataframe\">\n",
       "  <thead>\n",
       "    <tr style=\"text-align: right;\">\n",
       "      <th></th>\n",
       "      <th>Model</th>\n",
       "      <th>Displ</th>\n",
       "      <th>Cyl</th>\n",
       "      <th>Trans</th>\n",
       "      <th>Drive</th>\n",
       "      <th>Fuel</th>\n",
       "      <th>Sales_Area</th>\n",
       "      <th>Stnd</th>\n",
       "      <th>Underhood_ID</th>\n",
       "      <th>Veh_Class</th>\n",
       "      <th>Air_Pollution_Score</th>\n",
       "      <th>FE_Calc_Appr</th>\n",
       "      <th>City_MPG</th>\n",
       "      <th>Hwy_MPG</th>\n",
       "      <th>Cmb_MPG</th>\n",
       "      <th>Unadj_Cmb_MPG</th>\n",
       "      <th>Greenhouse_Gas_Score</th>\n",
       "      <th>SmartWay</th>\n",
       "    </tr>\n",
       "  </thead>\n",
       "  <tbody>\n",
       "    <tr>\n",
       "      <th>0</th>\n",
       "      <td>ACURA MDX</td>\n",
       "      <td>3.7</td>\n",
       "      <td>6</td>\n",
       "      <td>Auto-S5</td>\n",
       "      <td>4WD</td>\n",
       "      <td>Gasoline</td>\n",
       "      <td>CA</td>\n",
       "      <td>U2</td>\n",
       "      <td>8HNXT03.7PKR</td>\n",
       "      <td>SUV</td>\n",
       "      <td>7.0</td>\n",
       "      <td>Drv</td>\n",
       "      <td>15</td>\n",
       "      <td>20</td>\n",
       "      <td>17</td>\n",
       "      <td>22.0527</td>\n",
       "      <td>4</td>\n",
       "      <td>no</td>\n",
       "    </tr>\n",
       "    <tr>\n",
       "      <th>1</th>\n",
       "      <td>ACURA MDX</td>\n",
       "      <td>3.7</td>\n",
       "      <td>6</td>\n",
       "      <td>Auto-S5</td>\n",
       "      <td>4WD</td>\n",
       "      <td>Gasoline</td>\n",
       "      <td>FA</td>\n",
       "      <td>B5</td>\n",
       "      <td>8HNXT03.7PKR</td>\n",
       "      <td>SUV</td>\n",
       "      <td>6.0</td>\n",
       "      <td>Drv</td>\n",
       "      <td>15</td>\n",
       "      <td>20</td>\n",
       "      <td>17</td>\n",
       "      <td>22.0527</td>\n",
       "      <td>4</td>\n",
       "      <td>no</td>\n",
       "    </tr>\n",
       "    <tr>\n",
       "      <th>2</th>\n",
       "      <td>ACURA RDX</td>\n",
       "      <td>2.3</td>\n",
       "      <td>4</td>\n",
       "      <td>Auto-S5</td>\n",
       "      <td>4WD</td>\n",
       "      <td>Gasoline</td>\n",
       "      <td>CA</td>\n",
       "      <td>U2</td>\n",
       "      <td>8HNXT02.3DKR</td>\n",
       "      <td>SUV</td>\n",
       "      <td>7.0</td>\n",
       "      <td>Drv</td>\n",
       "      <td>17</td>\n",
       "      <td>22</td>\n",
       "      <td>19</td>\n",
       "      <td>24.1745</td>\n",
       "      <td>5</td>\n",
       "      <td>no</td>\n",
       "    </tr>\n",
       "    <tr>\n",
       "      <th>3</th>\n",
       "      <td>ACURA RDX</td>\n",
       "      <td>2.3</td>\n",
       "      <td>4</td>\n",
       "      <td>Auto-S5</td>\n",
       "      <td>4WD</td>\n",
       "      <td>Gasoline</td>\n",
       "      <td>FA</td>\n",
       "      <td>B5</td>\n",
       "      <td>8HNXT02.3DKR</td>\n",
       "      <td>SUV</td>\n",
       "      <td>6.0</td>\n",
       "      <td>Drv</td>\n",
       "      <td>17</td>\n",
       "      <td>22</td>\n",
       "      <td>19</td>\n",
       "      <td>24.1745</td>\n",
       "      <td>5</td>\n",
       "      <td>no</td>\n",
       "    </tr>\n",
       "    <tr>\n",
       "      <th>4</th>\n",
       "      <td>ACURA RL</td>\n",
       "      <td>3.5</td>\n",
       "      <td>6</td>\n",
       "      <td>Auto-S5</td>\n",
       "      <td>4WD</td>\n",
       "      <td>Gasoline</td>\n",
       "      <td>CA</td>\n",
       "      <td>U2</td>\n",
       "      <td>8HNXV03.5HKR</td>\n",
       "      <td>midsize car</td>\n",
       "      <td>7.0</td>\n",
       "      <td>Drv</td>\n",
       "      <td>16</td>\n",
       "      <td>24</td>\n",
       "      <td>19</td>\n",
       "      <td>24.5629</td>\n",
       "      <td>5</td>\n",
       "      <td>no</td>\n",
       "    </tr>\n",
       "  </tbody>\n",
       "</table>\n",
       "</div>"
      ],
      "text/plain": [
       "       Model  Displ  Cyl    Trans Drive      Fuel Sales_Area Stnd  \\\n",
       "0  ACURA MDX    3.7    6  Auto-S5   4WD  Gasoline         CA   U2   \n",
       "1  ACURA MDX    3.7    6  Auto-S5   4WD  Gasoline         FA   B5   \n",
       "2  ACURA RDX    2.3    4  Auto-S5   4WD  Gasoline         CA   U2   \n",
       "3  ACURA RDX    2.3    4  Auto-S5   4WD  Gasoline         FA   B5   \n",
       "4   ACURA RL    3.5    6  Auto-S5   4WD  Gasoline         CA   U2   \n",
       "\n",
       "   Underhood_ID    Veh_Class  Air_Pollution_Score FE_Calc_Appr City_MPG  \\\n",
       "0  8HNXT03.7PKR          SUV                  7.0          Drv       15   \n",
       "1  8HNXT03.7PKR          SUV                  6.0          Drv       15   \n",
       "2  8HNXT02.3DKR          SUV                  7.0          Drv       17   \n",
       "3  8HNXT02.3DKR          SUV                  6.0          Drv       17   \n",
       "4  8HNXV03.5HKR  midsize car                  7.0          Drv       16   \n",
       "\n",
       "  Hwy_MPG Cmb_MPG  Unadj_Cmb_MPG Greenhouse_Gas_Score SmartWay  \n",
       "0      20      17        22.0527                    4       no  \n",
       "1      20      17        22.0527                    4       no  \n",
       "2      22      19        24.1745                    5       no  \n",
       "3      22      19        24.1745                    5       no  \n",
       "4      24      19        24.5629                    5       no  "
      ]
     },
     "execution_count": 20,
     "metadata": {},
     "output_type": "execute_result"
    }
   ],
   "source": [
    "data.head()"
   ]
  },
  {
   "cell_type": "code",
   "execution_count": 21,
   "id": "91cb5604",
   "metadata": {},
   "outputs": [],
   "source": [
    "# define a function the can be reused for cleaning other columns\n",
    "def convert_to_number(column_name):\n",
    "    total_string = []\n",
    "    for i in column_name:\n",
    "        if \"/\" in i:\n",
    "            new_string = int(i.split(\"/\")[1])\n",
    "            total_string.append(new_string)\n",
    "        else:\n",
    "            total_string.append(int(i))\n",
    "    return total_string"
   ]
  },
  {
   "cell_type": "code",
   "execution_count": 22,
   "id": "e362042f",
   "metadata": {
    "scrolled": true
   },
   "outputs": [],
   "source": [
    "# Apply function to other columns\n",
    "City_MPG = convert_to_number(data.City_MPG)\n",
    "data.City_MPG = City_MPG"
   ]
  },
  {
   "cell_type": "code",
   "execution_count": 23,
   "id": "ef79f2be",
   "metadata": {
    "scrolled": true
   },
   "outputs": [],
   "source": [
    "Hwy_MPG = convert_to_number(data.Hwy_MPG)\n",
    "data.Hwy_MPG = Hwy_MPG"
   ]
  },
  {
   "cell_type": "code",
   "execution_count": 24,
   "id": "5e651f13",
   "metadata": {
    "scrolled": true
   },
   "outputs": [],
   "source": [
    "Greenhouse_Gas = convert_to_number(data.Greenhouse_Gas_Score)\n",
    "data.Greenhouse_Gas_Score = Greenhouse_Gas"
   ]
  },
  {
   "cell_type": "code",
   "execution_count": 25,
   "id": "922c59f3",
   "metadata": {
    "scrolled": true
   },
   "outputs": [
    {
     "data": {
      "text/plain": [
       "Model                    object\n",
       "Displ                   float64\n",
       "Cyl                       int32\n",
       "Trans                    object\n",
       "Drive                    object\n",
       "Fuel                     object\n",
       "Sales_Area               object\n",
       "Stnd                     object\n",
       "Underhood_ID             object\n",
       "Veh_Class                object\n",
       "Air_Pollution_Score     float64\n",
       "FE_Calc_Appr             object\n",
       "City_MPG                  int64\n",
       "Hwy_MPG                   int64\n",
       "Cmb_MPG                  object\n",
       "Unadj_Cmb_MPG           float64\n",
       "Greenhouse_Gas_Score      int64\n",
       "SmartWay                 object\n",
       "dtype: object"
      ]
     },
     "execution_count": 25,
     "metadata": {},
     "output_type": "execute_result"
    }
   ],
   "source": [
    "# confirm that the data types has been changed\n",
    "data.dtypes"
   ]
  },
  {
   "cell_type": "code",
   "execution_count": 26,
   "id": "1b496f0a",
   "metadata": {},
   "outputs": [],
   "source": [
    "# Check for duplicates and keep first occurence\n",
    "data[data.duplicated()]\n",
    "data.drop_duplicates(keep = \"first\", inplace = True)"
   ]
  },
  {
   "cell_type": "code",
   "execution_count": 38,
   "id": "57617296",
   "metadata": {},
   "outputs": [
    {
     "data": {
      "text/html": [
       "<div>\n",
       "<style scoped>\n",
       "    .dataframe tbody tr th:only-of-type {\n",
       "        vertical-align: middle;\n",
       "    }\n",
       "\n",
       "    .dataframe tbody tr th {\n",
       "        vertical-align: top;\n",
       "    }\n",
       "\n",
       "    .dataframe thead th {\n",
       "        text-align: right;\n",
       "    }\n",
       "</style>\n",
       "<table border=\"1\" class=\"dataframe\">\n",
       "  <thead>\n",
       "    <tr style=\"text-align: right;\">\n",
       "      <th></th>\n",
       "      <th>Model</th>\n",
       "      <th>Displ</th>\n",
       "      <th>Cyl</th>\n",
       "      <th>Trans</th>\n",
       "      <th>Drive</th>\n",
       "      <th>Fuel</th>\n",
       "      <th>Sales_Area</th>\n",
       "      <th>Stnd</th>\n",
       "      <th>Underhood_ID</th>\n",
       "      <th>Veh_Class</th>\n",
       "      <th>Air_Pollution_Score</th>\n",
       "      <th>FE_Calc_Appr</th>\n",
       "      <th>City_MPG</th>\n",
       "      <th>Hwy_MPG</th>\n",
       "      <th>Cmb_MPG</th>\n",
       "      <th>Unadj_Cmb_MPG</th>\n",
       "      <th>Greenhouse_Gas_Score</th>\n",
       "      <th>SmartWay</th>\n",
       "    </tr>\n",
       "  </thead>\n",
       "  <tbody>\n",
       "  </tbody>\n",
       "</table>\n",
       "</div>"
      ],
      "text/plain": [
       "Empty DataFrame\n",
       "Columns: [Model, Displ, Cyl, Trans, Drive, Fuel, Sales_Area, Stnd, Underhood_ID, Veh_Class, Air_Pollution_Score, FE_Calc_Appr, City_MPG, Hwy_MPG, Cmb_MPG, Unadj_Cmb_MPG, Greenhouse_Gas_Score, SmartWay]\n",
       "Index: []"
      ]
     },
     "execution_count": 38,
     "metadata": {},
     "output_type": "execute_result"
    }
   ],
   "source": [
    "data[data.duplicated()]"
   ]
  },
  {
   "cell_type": "code",
   "execution_count": 27,
   "id": "f88c54f0",
   "metadata": {},
   "outputs": [],
   "source": [
    "# save cleaned dataset\n",
    "cleaned_fuel_data = data.to_csv(\"cleaned_fuel_data.csv\")"
   ]
  },
  {
   "cell_type": "markdown",
   "id": "e59d2179",
   "metadata": {},
   "source": [
    "### Exploratory Data Analysis"
   ]
  },
  {
   "cell_type": "code",
   "execution_count": 28,
   "id": "49e084eb",
   "metadata": {
    "scrolled": true
   },
   "outputs": [
    {
     "data": {
      "text/html": [
       "<div>\n",
       "<style scoped>\n",
       "    .dataframe tbody tr th:only-of-type {\n",
       "        vertical-align: middle;\n",
       "    }\n",
       "\n",
       "    .dataframe tbody tr th {\n",
       "        vertical-align: top;\n",
       "    }\n",
       "\n",
       "    .dataframe thead th {\n",
       "        text-align: right;\n",
       "    }\n",
       "</style>\n",
       "<table border=\"1\" class=\"dataframe\">\n",
       "  <thead>\n",
       "    <tr style=\"text-align: right;\">\n",
       "      <th></th>\n",
       "      <th>Displ</th>\n",
       "      <th>Cyl</th>\n",
       "      <th>Air_Pollution_Score</th>\n",
       "      <th>City_MPG</th>\n",
       "      <th>Hwy_MPG</th>\n",
       "      <th>Unadj_Cmb_MPG</th>\n",
       "      <th>Greenhouse_Gas_Score</th>\n",
       "    </tr>\n",
       "  </thead>\n",
       "  <tbody>\n",
       "    <tr>\n",
       "      <th>count</th>\n",
       "      <td>2199.000000</td>\n",
       "      <td>2199.000000</td>\n",
       "      <td>2199.000000</td>\n",
       "      <td>2199.000000</td>\n",
       "      <td>2199.000000</td>\n",
       "      <td>2199.000000</td>\n",
       "      <td>2199.000000</td>\n",
       "    </tr>\n",
       "    <tr>\n",
       "      <th>mean</th>\n",
       "      <td>3.593997</td>\n",
       "      <td>6.100500</td>\n",
       "      <td>6.328786</td>\n",
       "      <td>17.132333</td>\n",
       "      <td>23.725784</td>\n",
       "      <td>23.943561</td>\n",
       "      <td>5.088677</td>\n",
       "    </tr>\n",
       "    <tr>\n",
       "      <th>std</th>\n",
       "      <td>1.269747</td>\n",
       "      <td>1.845585</td>\n",
       "      <td>0.990696</td>\n",
       "      <td>3.982588</td>\n",
       "      <td>4.714586</td>\n",
       "      <td>6.353077</td>\n",
       "      <td>1.877227</td>\n",
       "    </tr>\n",
       "    <tr>\n",
       "      <th>min</th>\n",
       "      <td>1.300000</td>\n",
       "      <td>2.000000</td>\n",
       "      <td>1.000000</td>\n",
       "      <td>8.000000</td>\n",
       "      <td>13.000000</td>\n",
       "      <td>10.018400</td>\n",
       "      <td>0.000000</td>\n",
       "    </tr>\n",
       "    <tr>\n",
       "      <th>25%</th>\n",
       "      <td>2.500000</td>\n",
       "      <td>4.000000</td>\n",
       "      <td>6.000000</td>\n",
       "      <td>14.000000</td>\n",
       "      <td>20.000000</td>\n",
       "      <td>19.143100</td>\n",
       "      <td>4.000000</td>\n",
       "    </tr>\n",
       "    <tr>\n",
       "      <th>50%</th>\n",
       "      <td>3.500000</td>\n",
       "      <td>6.000000</td>\n",
       "      <td>6.000000</td>\n",
       "      <td>17.000000</td>\n",
       "      <td>24.000000</td>\n",
       "      <td>23.935100</td>\n",
       "      <td>5.000000</td>\n",
       "    </tr>\n",
       "    <tr>\n",
       "      <th>75%</th>\n",
       "      <td>4.550000</td>\n",
       "      <td>8.000000</td>\n",
       "      <td>7.000000</td>\n",
       "      <td>20.000000</td>\n",
       "      <td>27.000000</td>\n",
       "      <td>27.888350</td>\n",
       "      <td>6.000000</td>\n",
       "    </tr>\n",
       "    <tr>\n",
       "      <th>max</th>\n",
       "      <td>8.400000</td>\n",
       "      <td>16.000000</td>\n",
       "      <td>9.500000</td>\n",
       "      <td>48.000000</td>\n",
       "      <td>45.000000</td>\n",
       "      <td>65.777800</td>\n",
       "      <td>10.000000</td>\n",
       "    </tr>\n",
       "  </tbody>\n",
       "</table>\n",
       "</div>"
      ],
      "text/plain": [
       "             Displ          Cyl  Air_Pollution_Score     City_MPG  \\\n",
       "count  2199.000000  2199.000000          2199.000000  2199.000000   \n",
       "mean      3.593997     6.100500             6.328786    17.132333   \n",
       "std       1.269747     1.845585             0.990696     3.982588   \n",
       "min       1.300000     2.000000             1.000000     8.000000   \n",
       "25%       2.500000     4.000000             6.000000    14.000000   \n",
       "50%       3.500000     6.000000             6.000000    17.000000   \n",
       "75%       4.550000     8.000000             7.000000    20.000000   \n",
       "max       8.400000    16.000000             9.500000    48.000000   \n",
       "\n",
       "           Hwy_MPG  Unadj_Cmb_MPG  Greenhouse_Gas_Score  \n",
       "count  2199.000000    2199.000000           2199.000000  \n",
       "mean     23.725784      23.943561              5.088677  \n",
       "std       4.714586       6.353077              1.877227  \n",
       "min      13.000000      10.018400              0.000000  \n",
       "25%      20.000000      19.143100              4.000000  \n",
       "50%      24.000000      23.935100              5.000000  \n",
       "75%      27.000000      27.888350              6.000000  \n",
       "max      45.000000      65.777800             10.000000  "
      ]
     },
     "execution_count": 28,
     "metadata": {},
     "output_type": "execute_result"
    }
   ],
   "source": [
    "data.describe()"
   ]
  },
  {
   "cell_type": "code",
   "execution_count": 29,
   "id": "af8ff1a3",
   "metadata": {
    "scrolled": true
   },
   "outputs": [
    {
     "data": {
      "text/html": [
       "<div>\n",
       "<style scoped>\n",
       "    .dataframe tbody tr th:only-of-type {\n",
       "        vertical-align: middle;\n",
       "    }\n",
       "\n",
       "    .dataframe tbody tr th {\n",
       "        vertical-align: top;\n",
       "    }\n",
       "\n",
       "    .dataframe thead th {\n",
       "        text-align: right;\n",
       "    }\n",
       "</style>\n",
       "<table border=\"1\" class=\"dataframe\">\n",
       "  <thead>\n",
       "    <tr style=\"text-align: right;\">\n",
       "      <th></th>\n",
       "      <th>Displ</th>\n",
       "      <th>Cyl</th>\n",
       "      <th>Air_Pollution_Score</th>\n",
       "      <th>City_MPG</th>\n",
       "      <th>Hwy_MPG</th>\n",
       "      <th>Unadj_Cmb_MPG</th>\n",
       "      <th>Greenhouse_Gas_Score</th>\n",
       "    </tr>\n",
       "  </thead>\n",
       "  <tbody>\n",
       "    <tr>\n",
       "      <th>Displ</th>\n",
       "      <td>1.000000</td>\n",
       "      <td>0.897139</td>\n",
       "      <td>-0.211347</td>\n",
       "      <td>-0.796882</td>\n",
       "      <td>-0.804154</td>\n",
       "      <td>-0.777085</td>\n",
       "      <td>-0.842698</td>\n",
       "    </tr>\n",
       "    <tr>\n",
       "      <th>Cyl</th>\n",
       "      <td>0.897139</td>\n",
       "      <td>1.000000</td>\n",
       "      <td>-0.207935</td>\n",
       "      <td>-0.757640</td>\n",
       "      <td>-0.730629</td>\n",
       "      <td>-0.703688</td>\n",
       "      <td>-0.813589</td>\n",
       "    </tr>\n",
       "    <tr>\n",
       "      <th>Air_Pollution_Score</th>\n",
       "      <td>-0.211347</td>\n",
       "      <td>-0.207935</td>\n",
       "      <td>1.000000</td>\n",
       "      <td>0.307396</td>\n",
       "      <td>0.284063</td>\n",
       "      <td>0.304071</td>\n",
       "      <td>0.285949</td>\n",
       "    </tr>\n",
       "    <tr>\n",
       "      <th>City_MPG</th>\n",
       "      <td>-0.796882</td>\n",
       "      <td>-0.757640</td>\n",
       "      <td>0.307396</td>\n",
       "      <td>1.000000</td>\n",
       "      <td>0.906703</td>\n",
       "      <td>0.910486</td>\n",
       "      <td>0.913372</td>\n",
       "    </tr>\n",
       "    <tr>\n",
       "      <th>Hwy_MPG</th>\n",
       "      <td>-0.804154</td>\n",
       "      <td>-0.730629</td>\n",
       "      <td>0.284063</td>\n",
       "      <td>0.906703</td>\n",
       "      <td>1.000000</td>\n",
       "      <td>0.866035</td>\n",
       "      <td>0.933399</td>\n",
       "    </tr>\n",
       "    <tr>\n",
       "      <th>Unadj_Cmb_MPG</th>\n",
       "      <td>-0.777085</td>\n",
       "      <td>-0.703688</td>\n",
       "      <td>0.304071</td>\n",
       "      <td>0.910486</td>\n",
       "      <td>0.866035</td>\n",
       "      <td>1.000000</td>\n",
       "      <td>0.849960</td>\n",
       "    </tr>\n",
       "    <tr>\n",
       "      <th>Greenhouse_Gas_Score</th>\n",
       "      <td>-0.842698</td>\n",
       "      <td>-0.813589</td>\n",
       "      <td>0.285949</td>\n",
       "      <td>0.913372</td>\n",
       "      <td>0.933399</td>\n",
       "      <td>0.849960</td>\n",
       "      <td>1.000000</td>\n",
       "    </tr>\n",
       "  </tbody>\n",
       "</table>\n",
       "</div>"
      ],
      "text/plain": [
       "                         Displ       Cyl  Air_Pollution_Score  City_MPG  \\\n",
       "Displ                 1.000000  0.897139            -0.211347 -0.796882   \n",
       "Cyl                   0.897139  1.000000            -0.207935 -0.757640   \n",
       "Air_Pollution_Score  -0.211347 -0.207935             1.000000  0.307396   \n",
       "City_MPG             -0.796882 -0.757640             0.307396  1.000000   \n",
       "Hwy_MPG              -0.804154 -0.730629             0.284063  0.906703   \n",
       "Unadj_Cmb_MPG        -0.777085 -0.703688             0.304071  0.910486   \n",
       "Greenhouse_Gas_Score -0.842698 -0.813589             0.285949  0.913372   \n",
       "\n",
       "                       Hwy_MPG  Unadj_Cmb_MPG  Greenhouse_Gas_Score  \n",
       "Displ                -0.804154      -0.777085             -0.842698  \n",
       "Cyl                  -0.730629      -0.703688             -0.813589  \n",
       "Air_Pollution_Score   0.284063       0.304071              0.285949  \n",
       "City_MPG              0.906703       0.910486              0.913372  \n",
       "Hwy_MPG               1.000000       0.866035              0.933399  \n",
       "Unadj_Cmb_MPG         0.866035       1.000000              0.849960  \n",
       "Greenhouse_Gas_Score  0.933399       0.849960              1.000000  "
      ]
     },
     "execution_count": 29,
     "metadata": {},
     "output_type": "execute_result"
    }
   ],
   "source": [
    "data.corr()"
   ]
  },
  {
   "cell_type": "code",
   "execution_count": 30,
   "id": "75fd5c8d",
   "metadata": {},
   "outputs": [],
   "source": [
    "Sales_Area = data.groupby(data.Sales_Area)\n",
    "Drive = data.groupby(data.Drive)"
   ]
  },
  {
   "cell_type": "markdown",
   "id": "e89acf4f",
   "metadata": {},
   "source": [
    "### Which Sales Area has the most city MPG(miles per gallon)\n",
    "The bar plot below shows that california has the highest city MPG"
   ]
  },
  {
   "cell_type": "code",
   "execution_count": 46,
   "id": "22d8ceea",
   "metadata": {
    "scrolled": true
   },
   "outputs": [
    {
     "data": {
      "image/png": "[encoded data removed]",
      "text/plain": [
       "<Figure size 576x288 with 1 Axes>"
      ]
     },
     "metadata": {
      "needs_background": "light"
     },
     "output_type": "display_data"
    }
   ],
   "source": [
    "# Which Sales Area has the most city MPG(miles per gallon)\n",
    "plt.figure(figsize=(8,4))\n",
    "plt.title(\"Sales Area by City MPG\".upper())\n",
    "sns.barplot(data =data,  x= data.Sales_Area, y=data.City_MPG);"
   ]
  },
  {
   "cell_type": "markdown",
   "id": "6d6e04c7",
   "metadata": {},
   "source": [
    "### Which Sales Area has the most Highway MPG(miles per gallon)\n",
    "The box plot below show that Ca and FA has about thesame Highway MPG"
   ]
  },
  {
   "cell_type": "code",
   "execution_count": 48,
   "id": "cdc12355",
   "metadata": {},
   "outputs": [
    {
     "data": {
      "image/png": "[encoded data removed]",
      "text/plain": [
       "<Figure size 576x288 with 1 Axes>"
      ]
     },
     "metadata": {
      "needs_background": "light"
     },
     "output_type": "display_data"
    }
   ],
   "source": [
    "# Which Sales Area has the most Highway MPG(miles per gallon)\n",
    "plt.figure(figsize=(8,4))\n",
    "plt.title(\"Sales Area by Highway MPG\".upper())\n",
    "sns.boxplot(data = data, x = data.Sales_Area, y= data.Hwy_MPG);"
   ]
  },
  {
   "cell_type": "markdown",
   "id": "38f91711",
   "metadata": {},
   "source": [
    "###  Which drive has the most Air pollution score?\n",
    "The bar plot below shows that 2WD vehicles have the most Air pollution score"
   ]
  },
  {
   "cell_type": "code",
   "execution_count": 49,
   "id": "3e286d81",
   "metadata": {
    "scrolled": true
   },
   "outputs": [
    {
     "data": {
      "image/png": "[encoded data removed]",
      "text/plain": [
       "<Figure size 576x288 with 1 Axes>"
      ]
     },
     "metadata": {
      "needs_background": "light"
     },
     "output_type": "display_data"
    }
   ],
   "source": [
    "# Which drive has the most Air pollution score?\n",
    "Drive.get_group(\"2WD\")\n",
    "plt.figure(figsize=(8,4))\n",
    "plt.title(\"Drive with the most Air pollution Score\".upper())\n",
    "sns.barplot(data = data, x= data.Drive, y= data.Air_Pollution_Score);"
   ]
  },
  {
   "cell_type": "markdown",
   "id": "6752c6c1",
   "metadata": {},
   "source": [
    "### Which vehicle class has the highest Air pollution score and in which city?\n",
    "The multiple column barplot below shows that california's large cars have the highest Air pollution Score"
   ]
  },
  {
   "cell_type": "code",
   "execution_count": 35,
   "id": "581d2f2a",
   "metadata": {},
   "outputs": [],
   "source": [
    "# This code picks 10 random rows for each category in the Veh_Class\n",
    "ran_values = data.groupby(\"Veh_Class\", group_keys=False).apply(lambda x:x.sample(10))"
   ]
  },
  {
   "cell_type": "code",
   "execution_count": 53,
   "id": "8f6cb72e",
   "metadata": {},
   "outputs": [
    {
     "data": {
      "image/png": "[encoded data removed]",
      "text/plain": [
       "<Figure size 720x432 with 1 Axes>"
      ]
     },
     "metadata": {
      "needs_background": "light"
     },
     "output_type": "display_data"
    }
   ],
   "source": [
    "plt.figure(figsize=[10,6])\n",
    "plt.title(\"Vehicle with the highest Air pollution Score\".upper())\n",
    "sns.barplot(data =ran_values, x = \"Veh_Class\", y= \"Air_Pollution_Score\", hue =\"Sales_Area\");"
   ]
  },
  {
   "cell_type": "markdown",
   "id": "9769bc18",
   "metadata": {},
   "source": [
    "#### Which Drive contribute most to Green house gas score?\n",
    "The bar plot below shows that 2WD vehicles contribute the most to Green house gas score"
   ]
  },
  {
   "cell_type": "code",
   "execution_count": 54,
   "id": "f488c4e4",
   "metadata": {},
   "outputs": [
    {
     "data": {
      "image/png": "[encoded data removed]",
      "text/plain": [
       "<Figure size 576x288 with 1 Axes>"
      ]
     },
     "metadata": {
      "needs_background": "light"
     },
     "output_type": "display_data"
    }
   ],
   "source": [
    "# Which Drive contribute most to Green house gas score?\n",
    "plt.figure(figsize=[8,4])\n",
    "plt.title(\"Drive that contribute most to Green house gas score\".upper())\n",
    "sns.countplot(x=\"Drive\", data=ran_values);"
   ]
  },
  {
   "cell_type": "code",
   "execution_count": null,
   "id": "606fee16",
   "metadata": {},
   "outputs": [],
   "source": []
  },
  {
   "cell_type": "code",
   "execution_count": null,
   "id": "aff5659d",
   "metadata": {},
   "outputs": [],
   "source": []
  }
 ],
 "metadata": {
  "kernelspec": {
   "display_name": "Python 3 (ipykernel)",
   "language": "python",
   "name": "python3"
  },
  "language_info": {
   "codemirror_mode": {
    "name": "ipython",
    "version": 3
   },
   "file_extension": ".py",
   "mimetype": "text/x-python",
   "name": "python",
   "nbconvert_exporter": "python",
   "pygments_lexer": "ipython3",
   "version": "3.9.12"
  }
 },
 "nbformat": 4,
 "nbformat_minor": 5
}
